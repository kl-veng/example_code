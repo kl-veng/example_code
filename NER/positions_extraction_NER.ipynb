{
 "cells": [
  {
   "cell_type": "code",
   "execution_count": 1,
   "id": "c5c07e56-0e14-4e22-8ff9-0783ddb10230",
   "metadata": {
    "tags": []
   },
   "outputs": [],
   "source": [
    "import spacy\n",
    "from spacy import displacy\n",
    "import glob\n",
    "from tqdm import tqdm\n",
    "import json"
   ]
  },
  {
   "cell_type": "code",
   "execution_count": 2,
   "id": "5aa5d7cd-e9c5-4e17-8c97-f95cbee16928",
   "metadata": {
    "tags": []
   },
   "outputs": [],
   "source": [
    "with open('train_data.json', 'r', encoding='utf-8') as f:\n",
    "    training_data = json.load(f)"
   ]
  },
  {
   "cell_type": "code",
   "execution_count": 3,
   "id": "693f27fd-a618-4e57-9b70-2e792017ea27",
   "metadata": {
    "tags": []
   },
   "outputs": [],
   "source": [
    "with open('test_data.json', 'r', encoding='utf-8') as f:\n",
    "    testing_data = json.load(f)"
   ]
  },
  {
   "cell_type": "code",
   "execution_count": 4,
   "id": "62cf00a7-43cf-4c8b-9867-8e71b7e3a04a",
   "metadata": {
    "tags": []
   },
   "outputs": [
    {
     "data": {
      "text/plain": [
       "{'text': 'Gute Köchin neben Stuben mädchen gesucht. 2. Bez., Unt. Donaustr. 29, Tür 11. 21856',\n",
       " 'entities': [[5, 11, 'position']]}"
      ]
     },
     "execution_count": 4,
     "metadata": {},
     "output_type": "execute_result"
    }
   ],
   "source": [
    "(testing_data[0])"
   ]
  },
  {
   "cell_type": "code",
   "execution_count": 5,
   "id": "9396f38d-8ce6-435f-99cf-58e8d64b3f08",
   "metadata": {
    "tags": []
   },
   "outputs": [],
   "source": [
    "from spacy.tokens import DocBin\n",
    "from spacy.util import filter_spans\n",
    "\n",
    "nlp = spacy.blank('de')"
   ]
  },
  {
   "cell_type": "code",
   "execution_count": 6,
   "id": "3e26e374-f9ce-4074-af36-542019c0a2e4",
   "metadata": {
    "tags": []
   },
   "outputs": [
    {
     "name": "stderr",
     "output_type": "stream",
     "text": [
      " 42%|███████████████████████████████▉                                             | 617/1486 [00:00<00:00, 3054.33it/s]"
     ]
    },
    {
     "name": "stdout",
     "output_type": "stream",
     "text": [
      "Skipping entity\n",
      "Skipping entity\n",
      "Skipping entity\n"
     ]
    },
    {
     "name": "stderr",
     "output_type": "stream",
     "text": [
      "100%|████████████████████████████████████████████████████████████████████████████| 1486/1486 [00:00<00:00, 3278.53it/s]\n",
      "100%|██████████████████████████████████████████████████████████████████████████████| 637/637 [00:00<00:00, 3816.86it/s]"
     ]
    },
    {
     "name": "stdout",
     "output_type": "stream",
     "text": [
      "Skipping entity\n",
      "Skipping entity\n",
      "Skipping entity\n"
     ]
    },
    {
     "name": "stderr",
     "output_type": "stream",
     "text": [
      "\n"
     ]
    }
   ],
   "source": [
    "train_doc_bin = DocBin()\n",
    "\n",
    "for training_example in tqdm(training_data):\n",
    "    text = training_example['text']\n",
    "    labels = training_example['entities']\n",
    "    doc = nlp.make_doc(text)\n",
    "    ents = []\n",
    "    for start, end, label in labels: \n",
    "        span = doc.char_span(start, end, label=label, alignment_mode=\"contract\")\n",
    "        if span is None:\n",
    "            print(\"Skipping entity\")\n",
    "        else:\n",
    "            ents.append(span)\n",
    "    filtered_ents = filter_spans(ents)\n",
    "    doc.ents = filtered_ents\n",
    "    train_doc_bin.add(doc)\n",
    "\n",
    "train_doc_bin.to_disk(\"train.spacy\")\n",
    "\n",
    "test_doc_bin = DocBin()\n",
    "\n",
    "for training_example in tqdm(testing_data):\n",
    "    text = training_example['text']\n",
    "    labels = training_example['entities']\n",
    "    doc = nlp.make_doc(text)\n",
    "    ents = []\n",
    "    for start, end, label in labels: \n",
    "        span = doc.char_span(start, end, label=label, alignment_mode=\"contract\")\n",
    "        if span is None:\n",
    "            print(\"Skipping entity\")\n",
    "        else:\n",
    "            ents.append(span)\n",
    "    filtered_ents = filter_spans(ents)\n",
    "    doc.ents = filtered_ents\n",
    "    test_doc_bin.add(doc)\n",
    "\n",
    "test_doc_bin.to_disk(\"test.spacy\")"
   ]
  },
  {
   "cell_type": "code",
   "execution_count": 7,
   "id": "43cf64f1-ca0d-41c3-97c0-5df5787c3157",
   "metadata": {
    "tags": []
   },
   "outputs": [],
   "source": [
    "## Generate a base_config file from spaCy's official documentation: https://spacy.io/usage/training"
   ]
  },
  {
   "cell_type": "code",
   "execution_count": 8,
   "id": "34496c68-259a-478b-a804-2873e8eadbad",
   "metadata": {
    "tags": []
   },
   "outputs": [
    {
     "name": "stdout",
     "output_type": "stream",
     "text": [
      "\u001b[38;5;2m[+] Auto-filled config with all values\u001b[0m\n",
      "\u001b[38;5;2m[+] Saved config\u001b[0m\n",
      "config.cfg\n",
      "You can now add your data and train your pipeline:\n",
      "python -m spacy train config.cfg --paths.train ./train.spacy --paths.dev ./dev.spacy\n"
     ]
    }
   ],
   "source": [
    "!python -m spacy init fill-config base_config.cfg config.cfg"
   ]
  },
  {
   "cell_type": "code",
   "execution_count": 9,
   "id": "cb634d45-00af-4207-aca0-ef6350ae9534",
   "metadata": {
    "tags": []
   },
   "outputs": [
    {
     "name": "stdout",
     "output_type": "stream",
     "text": [
      "\u001b[38;5;4m[i] Saving to output directory: ner\u001b[0m\n",
      "\u001b[38;5;4m[i] Using CPU\u001b[0m\n",
      "\u001b[38;5;4m[i] To switch to GPU 0, use the option: --gpu-id 0\u001b[0m\n",
      "\u001b[1m\n",
      "=========================== Initializing pipeline ===========================\u001b[0m\n",
      "\u001b[38;5;2m[+] Initialized pipeline\u001b[0m\n",
      "\u001b[1m\n",
      "============================= Training pipeline =============================\u001b[0m\n",
      "\u001b[38;5;4m[i] Pipeline: ['tok2vec', 'ner']\u001b[0m\n",
      "\u001b[38;5;4m[i] Initial learn rate: 0.001\u001b[0m\n",
      "E    #       LOSS TOK2VEC  LOSS NER  ENTS_F  ENTS_P  ENTS_R  SCORE \n",
      "---  ------  ------------  --------  ------  ------  ------  ------\n",
      "  0       0          0.00     34.50    5.90    3.10   60.38    0.06\n",
      "  0     200         42.81   1236.22   77.06   83.29   71.70    0.77\n",
      "  0     400         42.49    475.37   82.25   79.45   85.26    0.82\n",
      "  1     600         73.37    366.62   83.27   80.22   86.56    0.83\n",
      "  1     800        114.77    378.58   85.30   87.97   82.78    0.85\n",
      "  2    1000        158.29    304.47   85.66   86.07   85.26    0.86\n",
      "  3    1200        213.88    220.06   84.57   92.08   78.18    0.85\n",
      "  4    1400        280.54    195.05   87.26   90.29   84.43    0.87\n",
      "  6    1600        263.67    152.35   84.74   91.52   78.89    0.85\n",
      "  8    1800        275.23    134.56   83.94   91.75   77.36    0.84\n",
      " 10    2000        254.88    107.01   86.49   88.52   84.55    0.86\n",
      " 13    2200        272.78     95.08   86.81   90.96   83.02    0.87\n",
      " 16    2400        337.11    101.02   84.79   92.12   78.54    0.85\n",
      " 20    2600        484.44    111.17   84.90   87.39   82.55    0.85\n",
      " 23    2800        488.47     96.82   86.36   86.87   85.85    0.86\n",
      " 27    3000        364.91    101.86   85.47   88.21   82.90    0.85\n",
      "\u001b[38;5;2m[+] Saved pipeline to output directory\u001b[0m\n",
      "ner\\model-last\n"
     ]
    }
   ],
   "source": [
    "!python -m spacy train config.cfg --output ner --paths.train train.spacy --paths.dev test.spacy"
   ]
  },
  {
   "cell_type": "code",
   "execution_count": 10,
   "id": "71a5441f-0177-48d7-9e6a-177522fda64c",
   "metadata": {
    "tags": []
   },
   "outputs": [],
   "source": [
    "#nlp_ner = spacy.load('model-best_GPU') # GPU model\n",
    "nlp_ner = spacy.load('ner/model-best') # CPU model"
   ]
  },
  {
   "cell_type": "code",
   "execution_count": 11,
   "id": "c6bc5fac-4eea-4ca4-9db1-83ed291878e8",
   "metadata": {
    "tags": []
   },
   "outputs": [],
   "source": [
    "import requests\n",
    "import re\n",
    "\n",
    "def lemmatize(token):\n",
    "    url = f'https://www.deutschestextarchiv.de/demo/cab/query?a=default&fmt=text&clean=1&pretty=1&raw=1&q={token}'\n",
    "    response = requests.get(url)\n",
    "\n",
    "    if response.status_code == 200:\n",
    "        content = response.text\n",
    "    else:\n",
    "        print(f\"Failed to retrieve the page. Status code: {response.status_code}\")\n",
    "    \n",
    "    match = re.search(r'\\[moot/lemma\\] (\\S+)', content)\n",
    "    if match:\n",
    "        lemma = match.group(1)\n",
    "        return lemma\n",
    "    else:\n",
    "        print(\"The [moot/lemma] tag was not found.\")"
   ]
  },
  {
   "cell_type": "code",
   "execution_count": 12,
   "id": "b261efdf-9c7f-44c3-bb4d-bd141360495b",
   "metadata": {
    "tags": []
   },
   "outputs": [
    {
     "name": "stderr",
     "output_type": "stream",
     "text": [
      "100%|████████████████████████████████████████████████████████████████████████████████| 637/637 [21:48<00:00,  2.05s/it]\n"
     ]
    }
   ],
   "source": [
    "annotated_positions = []\n",
    "predicted_positions = []\n",
    "\n",
    "for entry in tqdm(testing_data):\n",
    "    predicted_positions_row = []\n",
    "    entities = nlp_ner(entry['text'])\n",
    "    \n",
    "    for entity in entities.ents:\n",
    "        predicted_positions_row.append(str(entity.text))\n",
    "\n",
    "    for i in range(len(predicted_positions_row)):\n",
    "        if 'stelle' in predicted_positions_row[i]:\n",
    "            predicted_positions_row[i] = predicted_positions_row[i][:-6]\n",
    "        predicted_positions_row[i] = lemmatize(predicted_positions_row[i])\n",
    "    predicted_positions.append(predicted_positions_row)\n",
    "    \n",
    "    annotated_positions_row = [entry['text'][start:end] for start, end, _ in entry['entities']]\n",
    "    for i in range(len(annotated_positions_row)):\n",
    "        if 'stelle' in annotated_positions_row[i]:\n",
    "            annotated_positions_row[i] = annotated_positions_row[i][:-6]\n",
    "        annotated_positions_row[i] = lemmatize(annotated_positions_row[i])\n",
    "    \n",
    "    annotated_positions.append(annotated_positions_row) "
   ]
  },
  {
   "cell_type": "code",
   "execution_count": 13,
   "id": "ba629d6b-523f-42b9-83bd-6e59d80f985d",
   "metadata": {
    "tags": []
   },
   "outputs": [
    {
     "data": {
      "text/html": [
       "<span class=\"tex2jax_ignore\"><div class=\"entities\" style=\"line-height: 2.5; direction: ltr\">Eine \n",
       "<mark class=\"entity\" style=\"background: #ddd; padding: 0.45em 0.6em; margin: 0 0.25em; line-height: 1; border-radius: 0.35em;\">\n",
       "    Naturblumenbinderin\n",
       "    <span style=\"font-size: 0.8em; font-weight: bold; line-height: 1; border-radius: 0.35em; vertical-align: middle; margin-left: 0.5rem\">position</span>\n",
       "</mark>\n",
       " gelernt in Wien, bittet um Kondition. Emma Ziegler, Gärtnergaſſe 7. Perchtoldsdarf. N.⸗Oc. 3123—6</div></span>"
      ],
      "text/plain": [
       "<IPython.core.display.HTML object>"
      ]
     },
     "metadata": {},
     "output_type": "display_data"
    }
   ],
   "source": [
    "doc = nlp_ner('Eine Naturblumenbinderin gelernt in Wien, bittet um Kondition. Emma Ziegler, Gärtnergaſſe 7. Perchtoldsdarf. N.⸗Oc. 3123—6')\n",
    "displacy.render(doc, style='ent', jupyter=True)"
   ]
  },
  {
   "cell_type": "code",
   "execution_count": 14,
   "id": "d421ad43-a64d-4a8e-bf1e-8104a889c473",
   "metadata": {
    "tags": []
   },
   "outputs": [
    {
     "data": {
      "text/html": [
       "<span class=\"tex2jax_ignore\"><div class=\"entities\" style=\"line-height: 2.5; direction: ltr\">Fesche solide 12599 \n",
       "<mark class=\"entity\" style=\"background: #ddd; padding: 0.45em 0.6em; margin: 0 0.25em; line-height: 1; border-radius: 0.35em;\">\n",
       "    Kassierkellnerin\n",
       "    <span style=\"font-size: 0.8em; font-weight: bold; line-height: 1; border-radius: 0.35em; vertical-align: middle; margin-left: 0.5rem\">position</span>\n",
       "</mark>\n",
       " und tüchtige \n",
       "<mark class=\"entity\" style=\"background: #ddd; padding: 0.45em 0.6em; margin: 0 0.25em; line-height: 1; border-radius: 0.35em;\">\n",
       "    Köchin\n",
       "    <span style=\"font-size: 0.8em; font-weight: bold; line-height: 1; border-radius: 0.35em; vertical-align: middle; margin-left: 0.5rem\">position</span>\n",
       "</mark>\n",
       " finden sofort Stellung. Stadtparkrestaurant, Saaz.</div></span>"
      ],
      "text/plain": [
       "<IPython.core.display.HTML object>"
      ]
     },
     "metadata": {},
     "output_type": "display_data"
    }
   ],
   "source": [
    "doc = nlp_ner(\"Fesche solide 12599 Kassierkellnerin und tüchtige Köchin finden sofort Stellung. Stadtparkrestaurant, Saaz.\")\n",
    "displacy.render(doc, style='ent', jupyter=True)"
   ]
  },
  {
   "cell_type": "code",
   "execution_count": 15,
   "id": "6889c868-9fff-4d40-920b-9c60b4ee3dd7",
   "metadata": {
    "tags": []
   },
   "outputs": [
    {
     "data": {
      "text/html": [
       "<span class=\"tex2jax_ignore\"><div class=\"entities\" style=\"line-height: 2.5; direction: ltr\">Avis f. deutsche stellensuchende. sofort werden plazirt nach Ungarn: 1 \n",
       "<mark class=\"entity\" style=\"background: #ddd; padding: 0.45em 0.6em; margin: 0 0.25em; line-height: 1; border-radius: 0.35em;\">\n",
       "    sekretär\n",
       "    <span style=\"font-size: 0.8em; font-weight: bold; line-height: 1; border-radius: 0.35em; vertical-align: middle; margin-left: 0.5rem\">position</span>\n",
       "</mark>\n",
       " zu einem Grafen 1000 fl., 1 \n",
       "<mark class=\"entity\" style=\"background: #ddd; padding: 0.45em 0.6em; margin: 0 0.25em; line-height: 1; border-radius: 0.35em;\">\n",
       "    Güter⸗Inspektor\n",
       "    <span style=\"font-size: 0.8em; font-weight: bold; line-height: 1; border-radius: 0.35em; vertical-align: middle; margin-left: 0.5rem\">position</span>\n",
       "</mark>\n",
       " 900 fl. und \n",
       "<mark class=\"entity\" style=\"background: #ddd; padding: 0.45em 0.6em; margin: 0 0.25em; line-height: 1; border-radius: 0.35em;\">\n",
       "    Tantiéme\n",
       "    <span style=\"font-size: 0.8em; font-weight: bold; line-height: 1; border-radius: 0.35em; vertical-align: middle; margin-left: 0.5rem\">position</span>\n",
       "</mark>\n",
       ", 1 \n",
       "<mark class=\"entity\" style=\"background: #ddd; padding: 0.45em 0.6em; margin: 0 0.25em; line-height: 1; border-radius: 0.35em;\">\n",
       "    Oekonomiebeamter\n",
       "    <span style=\"font-size: 0.8em; font-weight: bold; line-height: 1; border-radius: 0.35em; vertical-align: middle; margin-left: 0.5rem\">position</span>\n",
       "</mark>\n",
       " 800 fl. und \n",
       "<mark class=\"entity\" style=\"background: #ddd; padding: 0.45em 0.6em; margin: 0 0.25em; line-height: 1; border-radius: 0.35em;\">\n",
       "    Deputat\n",
       "    <span style=\"font-size: 0.8em; font-weight: bold; line-height: 1; border-radius: 0.35em; vertical-align: middle; margin-left: 0.5rem\">position</span>\n",
       "</mark>\n",
       ", 2 \n",
       "<mark class=\"entity\" style=\"background: #ddd; padding: 0.45em 0.6em; margin: 0 0.25em; line-height: 1; border-radius: 0.35em;\">\n",
       "    Wirthschaftsadjunkten\n",
       "    <span style=\"font-size: 0.8em; font-weight: bold; line-height: 1; border-radius: 0.35em; vertical-align: middle; margin-left: 0.5rem\">position</span>\n",
       "</mark>\n",
       " à 400 fl. pro anno und freie stazion, 1 \n",
       "<mark class=\"entity\" style=\"background: #ddd; padding: 0.45em 0.6em; margin: 0 0.25em; line-height: 1; border-radius: 0.35em;\">\n",
       "    Oberförster\n",
       "    <span style=\"font-size: 0.8em; font-weight: bold; line-height: 1; border-radius: 0.35em; vertical-align: middle; margin-left: 0.5rem\">position</span>\n",
       "</mark>\n",
       " 1200 fl., 1 \n",
       "<mark class=\"entity\" style=\"background: #ddd; padding: 0.45em 0.6em; margin: 0 0.25em; line-height: 1; border-radius: 0.35em;\">\n",
       "    Magazineur\n",
       "    <span style=\"font-size: 0.8em; font-weight: bold; line-height: 1; border-radius: 0.35em; vertical-align: middle; margin-left: 0.5rem\">position</span>\n",
       "</mark>\n",
       " 800 fl., 1 \n",
       "<mark class=\"entity\" style=\"background: #ddd; padding: 0.45em 0.6em; margin: 0 0.25em; line-height: 1; border-radius: 0.35em;\">\n",
       "    Buchhalter\n",
       "    <span style=\"font-size: 0.8em; font-weight: bold; line-height: 1; border-radius: 0.35em; vertical-align: middle; margin-left: 0.5rem\">position</span>\n",
       "</mark>\n",
       " 1000 fl., 1 \n",
       "<mark class=\"entity\" style=\"background: #ddd; padding: 0.45em 0.6em; margin: 0 0.25em; line-height: 1; border-radius: 0.35em;\">\n",
       "    Brennereileiter\n",
       "    <span style=\"font-size: 0.8em; font-weight: bold; line-height: 1; border-radius: 0.35em; vertical-align: middle; margin-left: 0.5rem\">position</span>\n",
       "</mark>\n",
       " 900 fl., 1 \n",
       "<mark class=\"entity\" style=\"background: #ddd; padding: 0.45em 0.6em; margin: 0 0.25em; line-height: 1; border-radius: 0.35em;\">\n",
       "    Braumeister\n",
       "    <span style=\"font-size: 0.8em; font-weight: bold; line-height: 1; border-radius: 0.35em; vertical-align: middle; margin-left: 0.5rem\">position</span>\n",
       "</mark>\n",
       " 1000 fl., 1 \n",
       "<mark class=\"entity\" style=\"background: #ddd; padding: 0.45em 0.6em; margin: 0 0.25em; line-height: 1; border-radius: 0.35em;\">\n",
       "    Portier\n",
       "    <span style=\"font-size: 0.8em; font-weight: bold; line-height: 1; border-radius: 0.35em; vertical-align: middle; margin-left: 0.5rem\">position</span>\n",
       "</mark>\n",
       " 700 fl., 1 \n",
       "<mark class=\"entity\" style=\"background: #ddd; padding: 0.45em 0.6em; margin: 0 0.25em; line-height: 1; border-radius: 0.35em;\">\n",
       "    ArbeitsAufseher\n",
       "    <span style=\"font-size: 0.8em; font-weight: bold; line-height: 1; border-radius: 0.35em; vertical-align: middle; margin-left: 0.5rem\">position</span>\n",
       "</mark>\n",
       " 750 fl., 1 \n",
       "<mark class=\"entity\" style=\"background: #ddd; padding: 0.45em 0.6em; margin: 0 0.25em; line-height: 1; border-radius: 0.35em;\">\n",
       "    Fabriks⸗Aufseher\n",
       "    <span style=\"font-size: 0.8em; font-weight: bold; line-height: 1; border-radius: 0.35em; vertical-align: middle; margin-left: 0.5rem\">position</span>\n",
       "</mark>\n",
       " in einer chemischen Fabrik 800 fl., 1 deutscher \n",
       "<mark class=\"entity\" style=\"background: #ddd; padding: 0.45em 0.6em; margin: 0 0.25em; line-height: 1; border-radius: 0.35em;\">\n",
       "    Erzieher\n",
       "    <span style=\"font-size: 0.8em; font-weight: bold; line-height: 1; border-radius: 0.35em; vertical-align: middle; margin-left: 0.5rem\">position</span>\n",
       "</mark>\n",
       " 40 fl., 1 \n",
       "<mark class=\"entity\" style=\"background: #ddd; padding: 0.45em 0.6em; margin: 0 0.25em; line-height: 1; border-radius: 0.35em;\">\n",
       "    Reisebegleiterin\n",
       "    <span style=\"font-size: 0.8em; font-weight: bold; line-height: 1; border-radius: 0.35em; vertical-align: middle; margin-left: 0.5rem\">position</span>\n",
       "</mark>\n",
       " 40 fl., 1 Hausrepräsentantin 35 fl. und 1 \n",
       "<mark class=\"entity\" style=\"background: #ddd; padding: 0.45em 0.6em; margin: 0 0.25em; line-height: 1; border-radius: 0.35em;\">\n",
       "    Gesellschafterin\n",
       "    <span style=\"font-size: 0.8em; font-weight: bold; line-height: 1; border-radius: 0.35em; vertical-align: middle; margin-left: 0.5rem\">position</span>\n",
       "</mark>\n",
       " 30 fl. pro Monat und freie stazion, durch die Plazierungs⸗Agentur des B. Malík, Budapest, sommergasse 2. Anfragen werden nur gegen Einsendung von 3 stück Briefmarken beantwortet. 6540.</div></span>"
      ],
      "text/plain": [
       "<IPython.core.display.HTML object>"
      ]
     },
     "metadata": {},
     "output_type": "display_data"
    }
   ],
   "source": [
    "doc = nlp_ner(\"Avis f. deutsche stellensuchende. sofort werden plazirt nach Ungarn: 1 sekretär zu einem Grafen 1000 fl., 1 Güter⸗Inspektor 900 fl. und Tantiéme, 1 Oekonomiebeamter 800 fl. und Deputat, 2 Wirthschaftsadjunkten à 400 fl. pro anno und freie stazion, 1 Oberförster 1200 fl., 1 Magazineur 800 fl., 1 Buchhalter 1000 fl., 1 Brennereileiter 900 fl., 1 Braumeister 1000 fl., 1 Portier 700 fl., 1 ArbeitsAufseher 750 fl., 1 Fabriks⸗Aufseher in einer chemischen Fabrik 800 fl., 1 deutscher Erzieher 40 fl., 1 Reisebegleiterin 40 fl., 1 Hausrepräsentantin 35 fl. und 1 Gesellschafterin 30 fl. pro Monat und freie stazion, durch die Plazierungs⸗Agentur des B. Malík, Budapest, sommergasse 2. Anfragen werden nur gegen Einsendung von 3 stück Briefmarken beantwortet. 6540.\")\n",
    "displacy.render(doc, style='ent', jupyter=True)"
   ]
  },
  {
   "cell_type": "code",
   "execution_count": 16,
   "id": "8a517c9e-1981-4775-afac-a91537f581dd",
   "metadata": {
    "tags": []
   },
   "outputs": [
    {
     "data": {
      "text/html": [
       "<span class=\"tex2jax_ignore\"><div class=\"entities\" style=\"line-height: 2.5; direction: ltr\">\n",
       "<mark class=\"entity\" style=\"background: #ddd; padding: 0.45em 0.6em; margin: 0 0.25em; line-height: 1; border-radius: 0.35em;\">\n",
       "    Akkumulatorenfachmann\n",
       "    <span style=\"font-size: 0.8em; font-weight: bold; line-height: 1; border-radius: 0.35em; vertical-align: middle; margin-left: 0.5rem\">position</span>\n",
       "</mark>\n",
       ",ſelbſtändiger Arbeiter, in Auto“, Radio. und Telephon⸗Arbeiten verſiert, ſucht ſeine Stelle zu verbeſſern. In⸗ oder Ausland. Sene und Tſchechiſch. 4 11. Angebote erbeten an Ernſt 114 Prag⸗Smichov, Nadraini 48²⁵</div></span>"
      ],
      "text/plain": [
       "<IPython.core.display.HTML object>"
      ]
     },
     "metadata": {},
     "output_type": "display_data"
    }
   ],
   "source": [
    "doc = nlp_ner('Akkumulatorenfachmann,ſelbſtändiger Arbeiter, in Auto“, Radio. und Telephon⸗Arbeiten verſiert, ſucht ſeine Stelle zu verbeſſern. In⸗ oder Ausland. Sene und Tſchechiſch. 4 11. Angebote erbeten an Ernſt 114 Prag⸗Smichov, Nadraini 48²⁵')\n",
    "displacy.render(doc, style='ent', jupyter=True)"
   ]
  }
 ],
 "metadata": {
  "kernelspec": {
   "display_name": "venv",
   "language": "python",
   "name": "venv"
  },
  "language_info": {
   "codemirror_mode": {
    "name": "ipython",
    "version": 3
   },
   "file_extension": ".py",
   "mimetype": "text/x-python",
   "name": "python",
   "nbconvert_exporter": "python",
   "pygments_lexer": "ipython3",
   "version": "3.11.5"
  }
 },
 "nbformat": 4,
 "nbformat_minor": 5
}
