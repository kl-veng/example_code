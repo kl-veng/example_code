{
 "cells": [
  {
   "cell_type": "markdown",
   "metadata": {},
   "source": [
    "## 1. OCR"
   ]
  },
  {
   "cell_type": "code",
   "execution_count": 1,
   "metadata": {},
   "outputs": [],
   "source": [
    "from PIL import Image\n",
    "import pytesseract\n",
    "pytesseract.pytesseract.tesseract_cmd = 'C:/Users/venglaro/Tesseract-OCR/tesseract.exe'"
   ]
  },
  {
   "cell_type": "code",
   "execution_count": 2,
   "metadata": {},
   "outputs": [
    {
     "name": "stdout",
     "output_type": "stream",
     "text": [
      "Alle 3 Wochen\n",
      "eine Gewinn-Biehung der vom Staate garantirten\n",
      "\n",
      "Geld⸗Verlooſung.\n",
      "\n",
      "Original⸗Leoſe fur alle Ziehungen, (keine Promeſſen), womit die\n",
      "Haupttreffer von fl. 200,000 100,000, 50 000, 30,000, 25,000, 20,000,\n",
      "15,000, 12,000, 10,000 ꝛc. binnen 4 Monate gewonnen werden müſſen,\n",
      "ſind bei einer kleinen Anzahlung von nur fl. 5 direkt zu beziehen bei\n",
      "\n",
      "C. Steindecker⸗Schleſinger,\n",
      "Bank⸗ und Wechſel⸗Geſchäft in Frankfurt a. M.\n",
      "Pläne und Liſten gratis. 66\n",
      "̃ I\n",
      "\n",
      "Rur auf einige Tage iſt zu ſehen eine ſehr intereſſante\n",
      "\n",
      "Ausſtellung.\n",
      "\n",
      "—. Der ergebenſt Gefertigte, welcher ſich auf der Durchreiſe hier befindet, be⸗\n",
      "nützt dieſe Gelegenheit, um dem hohen Adel, der löbl. Garniſon und dem verehrungs⸗\n",
      "würdigen Publikum das berühmte und überall mit großer Befriedigung bewunderte\n",
      "Mädchen Katharina,\n",
      "20 Jahre alt, aus Ungarn, ſehen zu laſſen, welches in\n",
      "\n",
      "Ermangelung beider Arme und Füße die\n",
      "ſeinſten Arbeiten mit dem Munde verfertigt.\n",
      "\n",
      "Dieſes einzige, in ſeiner Art wunderbare Spiel der Natur, wurde in vielen\n",
      "großen Städten mit Erſtaunen und Bewunderung betrachtet, denn ſie verfertigt\n",
      "mit dem Munde jede Art feiner und eleganter Arbeit, als: Zuſchneiden mit\n",
      "der Scheere, in die feinſte Nähnadel einfädeln, Nähen, Sticken,\n",
      "Häckeln, Schlingen, die feinſten Blumen⸗ und Perlarbeiten u. ſ. w.\n",
      "Bei all' dieſen Arbeiten zeigt ſie die größte Geſchicklichkeit und Fertigkeit und be⸗\n",
      "darf auch nicht der geringſten fremden Beihilfe. Viele von ihr allein verfertigte,\n",
      "ſowie auch angefangene Arbeiten liegen zur Beſichtigung auf, an welchen letztern\n",
      "ſie vor den Augen der Zuſchauer weiter arbeiten wird.\n",
      "\n",
      "Da ſie nicht nur mit einem angenehmen Geſicht, ſondern auch mit einem\n",
      "ungewöhnlich heitern und ſanften Weſen begabt iſt, hofft dieſes von der launen⸗\n",
      "haften Natur geſchaffene Weſen mit Ihrem zahlreichen Beſuche beehrt zu werden.\n",
      "Zu ſehen von 9 bis 12 und von 3 bis 8 Uhr. — Erſter Platz 20 kr., zweiter\n",
      "Platz 10 kr. Kinder und das Militär vom Feldwebel abwärts zahlen die Hälfte.\n",
      "Der Schauplatz befindet ſich in Haus gewölb Nr. 218 neben der Poſt\n",
      "\n",
      "in der Neuſtadt. Alois Roatto.\n",
      "\n",
      "2\n",
      "\n",
      "2: Wiin der Neuſtadt. Alois Roatto.\n",
      "\n",
      "Ein Laden und mehrere Zimmer ſind in Nr. 32 außer der Triumpf⸗\n",
      "pforte im 3. Stock auf Galli zu vergeben. 2³\n",
      "\n",
      "Srrthan:u822,\n",
      "\n",
      "I\n",
      "\n",
      "\n"
     ]
    }
   ],
   "source": [
    "img = Image.open('images/ibn_18640702_010.jpg')\n",
    "ocr_model = 'frak2021'\n",
    "text = pytesseract.image_to_string(img, lang=ocr_model)\n",
    "print(text)"
   ]
  },
  {
   "cell_type": "markdown",
   "metadata": {},
   "source": [
    "## 2. Output Quality Evaluation"
   ]
  },
  {
   "cell_type": "code",
   "execution_count": 3,
   "metadata": {},
   "outputs": [
    {
     "name": "stdout",
     "output_type": "stream",
     "text": [
      "162\n"
     ]
    }
   ],
   "source": [
    "# Load the manual transcription\n",
    "with open('transcription/ONB_ibn_18640702_010.txt', 'r', encoding='utf-8') as file:\n",
    "    ground_truth = file.read()\n",
    "\n",
    "# measure the Levenshtein distance\n",
    "import Levenshtein\n",
    "\n",
    "distance = Levenshtein.distance(text, ground_truth)\n",
    "print(distance)"
   ]
  },
  {
   "cell_type": "code",
   "execution_count": 4,
   "metadata": {},
   "outputs": [
    {
     "name": "stdout",
     "output_type": "stream",
     "text": [
      "WER: 0.2919254658385093\n",
      "CER: 0.07168458781362007\n"
     ]
    }
   ],
   "source": [
    "# Count Character Error Rate and Word Error Rate\n",
    "import jiwer \n",
    "\n",
    "wer = jiwer.wer(text, ground_truth)\n",
    "print(f'WER: {wer}')\n",
    "\n",
    "cer = jiwer.cer(text, ground_truth)\n",
    "print(f'CER: {cer}')"
   ]
  },
  {
   "cell_type": "markdown",
   "metadata": {},
   "source": [
    "## 3. Post-correction"
   ]
  },
  {
   "cell_type": "code",
   "execution_count": 5,
   "metadata": {},
   "outputs": [
    {
     "name": "stdout",
     "output_type": "stream",
     "text": [
      "New distance is: 146\n",
      "New WER is: 0.250814332247557, new CER is: 0.06540369869192603.\n"
     ]
    }
   ],
   "source": [
    "# Rule-based post-correction:\n",
    "\n",
    "def filter_empty_lines(input_string):\n",
    "    while '\\n\\n' in input_string:\n",
    "        input_string = input_string.replace('\\n\\n', '\\n')\n",
    "    return input_string\n",
    "\n",
    "filtered_text = filter_empty_lines(text)\n",
    "\n",
    "distance = Levenshtein.distance(filtered_text, ground_truth)\n",
    "wer = jiwer.wer(filtered_text, ground_truth)\n",
    "cer = jiwer.cer(filtered_text, ground_truth)\n",
    "\n",
    "print(f'New distance is: {distance}')\n",
    "print(f'New WER is: {wer}, new CER is: {cer}.')"
   ]
  },
  {
   "cell_type": "code",
   "execution_count": 6,
   "metadata": {},
   "outputs": [],
   "source": [
    "# BERT-based post-correction using model form https://huggingface.co/Var3n/hmByT5_anno:\n",
    "\n",
    "from transformers import AutoTokenizer, AutoModelForSeq2SeqLM\n",
    "\n",
    "tokenizer = AutoTokenizer.from_pretrained(\"Var3n/hmByT5_anno\")\n",
    "model = AutoModelForSeq2SeqLM.from_pretrained(\"Var3n/hmByT5_anno\")"
   ]
  },
  {
   "cell_type": "code",
   "execution_count": 7,
   "metadata": {},
   "outputs": [
    {
     "name": "stdout",
     "output_type": "stream",
     "text": [
      "The maximum length of a line is 85.\n"
     ]
    }
   ],
   "source": [
    "# Dividing text into batches\n",
    "\n",
    "import re\n",
    "\n",
    "def split_by_new_line(text):\n",
    "    tokens = re.split(\"\\\\n\", text)\n",
    "    tokens = list(filter(None, tokens))\n",
    "    return tokens\n",
    "\n",
    "lines = split_by_new_line(text)\n",
    "print(f'The maximum length of a line is {max(len(line) for line in lines)}.')"
   ]
  },
  {
   "cell_type": "code",
   "execution_count": 8,
   "metadata": {},
   "outputs": [
    {
     "name": "stdout",
     "output_type": "stream",
     "text": [
      "Alle 3 Wochen \n",
      "eine Gewinn-Ziehung der vom Staate garantirten \n",
      "Geld-Verlooſung. \n",
      "Original-Leoſe für alle Ziehungen, (keine Promeſſen), womit die \n",
      "Haupttreffer von fl. 200,000 100,000, 50 000, 30,000, 25,000, 20,000, \n",
      "15,000, 12,000, 10,000 Rc. binnen 4 Monate gewonnen werden müſſen, \n",
      "ſind bei einer kleinen Anzahlung von nur fl. 5 direkt zu beziehen bei \n",
      "C. Steindecker-Schleſinger, \n",
      "Bank- und Wechſel-Geſchäft in Frankfurt a. M. \n",
      "Pläne und Liſten gratis. 66 \n",
      " \n",
      "Nur auf einige Tage iſt zu ſehen eine ſehr intereſſante \n",
      "Ausſtellung. \n",
      " Der ergebenſt Gefertigte, welcher ſich auf der Durchreiſe hier befindet, be\n",
      "nützt dieſe Gelegenheit, umdem hohen Adel, der löbl. Garniſon und dem verehrungs\n",
      "würdigen Publikum das berühmte und überall mit großer Befriedigung bewunderte \n",
      "Mädchen Katharina, \n",
      "20 Jahre alt, aus Ungarn, ſehen zu laſſen, welches in \n",
      "Ermangelung beider Arme und Füße die \n",
      " Arbeiten mit dem Munde verfertigt. \n",
      "Dieſes einzige, in ſeiner Art wunderbare Spiel der Natur, wurde in vielen \n",
      "großen Städten mit Erſtaunen und Bewunderung betrachtet, denn ſie verfertigt \n",
      "mit dem Mundejede Art feiner und eleganter Arbeit, als: Zuſchneiden mit \n",
      "der Scheere, in die feinſte Nähnadel einfächeln, Nähen, Sticken,\n",
      "Häckeln, Schlingen, die feinſten Blumen- und Perlarbeiten u. ſ. w. \n",
      "Bei all' dieſen Arbeiten zeigt ſie die größte Geſchicklichkeit und Fertigkeit und be\n",
      "darf auch nichtder geringſten fremden Beihilfe. Viele von ihr allein verfertigte, \n",
      "ſowie auch angefangene Arbeiten liegen zur Beſichtigung auf, an welchen letztern \n",
      " vor den Augen der Zuſchauer weiter arbeiten wird. \n",
      "Da ſie nicht nur mit einem angenehmen Geſicht, ſondern auch mit einem \n",
      "ungewöhnlichheitern und ſanften Feſſen begabt iſt, hofft dieſes von der launen \n",
      "haften Natur geſchaffene Geſehenmit Ihrem zahlreichen Beſuche beehrt zu werden.\n",
      "Zu ſehen von 9 bis 12 und von 3 bis 8 Uhr. Erſter Platz 20 kr., zweiter \n",
      "Platz 10 kr. Kinder und das Militär vom Feldwebel abwärts zahlen die Hälfte. \n",
      "Der Schauplatz befindet ſich in Haus gewölb Nr. 218 neben der Poſt \n",
      "in der Neuſtadt. Alois Roatto. \n",
      " \n",
      " der Neuſtadt. Alois Roatto. \n",
      "Ein Laden und mehrere Zimmer ſind in Nr. 32 außer der Triumph\n",
      "pforte im 3. Stock auf Galli zu vergeben. 20 \n",
      "Jrrthan u822, \n",
      " \n"
     ]
    }
   ],
   "source": [
    "result_postprocessed = []\n",
    "\n",
    "for line in lines:\n",
    "    inp = tokenizer(line, return_tensors=\"pt\").input_ids\n",
    "    output = model.generate(inp, max_new_tokens=len(inp[0]), num_beams=4, do_sample=True)\n",
    "    postprocessed_text = tokenizer.decode(output[0], skip_special_tokens=True)\n",
    "    result_postprocessed.append(postprocessed_text)\n",
    "\n",
    "postprocessed = '\\n'.join(result_postprocessed)\n",
    "print(postprocessed)"
   ]
  },
  {
   "cell_type": "code",
   "execution_count": 9,
   "metadata": {},
   "outputs": [],
   "source": [
    "# Replace ſ with s to get closer to the ground-truth\n",
    "postprocessed = postprocessed.replace('ſ', 's')"
   ]
  },
  {
   "cell_type": "code",
   "execution_count": 10,
   "metadata": {},
   "outputs": [
    {
     "name": "stdout",
     "output_type": "stream",
     "text": [
      "Results for the raw OCR:\n",
      "The distance is: 162\n",
      "The WER is: 0.2919254658385093, CER is: 0.07168458781362007.\n",
      "\n",
      "Results for the post-corrected text:\n",
      "New distance is: 132\n",
      "New WER is: 0.2682926829268293, new CER is: 0.058186738836265225.\n"
     ]
    }
   ],
   "source": [
    "# A comparison with the original text\n",
    "\n",
    "distance = Levenshtein.distance(text, ground_truth)\n",
    "wer = jiwer.wer(text, ground_truth)\n",
    "cer = jiwer.cer(text, ground_truth)\n",
    "\n",
    "print('Results for the raw OCR:')\n",
    "print(f'The distance is: {distance}')\n",
    "print(f'The WER is: {wer}, CER is: {cer}.\\n')\n",
    "\n",
    "distance = Levenshtein.distance(postprocessed, ground_truth)\n",
    "wer = jiwer.wer(postprocessed, ground_truth)\n",
    "cer = jiwer.cer(postprocessed, ground_truth)\n",
    "\n",
    "print('Results for the post-corrected text:')\n",
    "print(f'New distance is: {distance}')\n",
    "print(f'New WER is: {wer}, new CER is: {cer}.')"
   ]
  }
 ],
 "metadata": {
  "kernelspec": {
   "display_name": "venv",
   "language": "python",
   "name": "venv"
  },
  "language_info": {
   "codemirror_mode": {
    "name": "ipython",
    "version": 3
   },
   "file_extension": ".py",
   "mimetype": "text/x-python",
   "name": "python",
   "nbconvert_exporter": "python",
   "pygments_lexer": "ipython3",
   "version": "3.11.5"
  }
 },
 "nbformat": 4,
 "nbformat_minor": 2
}
