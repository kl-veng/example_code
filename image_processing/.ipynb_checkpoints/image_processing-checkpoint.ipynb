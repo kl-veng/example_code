{
 "cells": [
  {
   "cell_type": "markdown",
   "id": "c3f847a7",
   "metadata": {},
   "source": [
    "# Image Processing"
   ]
  },
  {
   "cell_type": "markdown",
   "id": "153803b7",
   "metadata": {},
   "source": [
    "### 1) Loading and displaying an image"
   ]
  },
  {
   "cell_type": "code",
   "execution_count": 3,
   "id": "22d8fffe",
   "metadata": {},
   "outputs": [],
   "source": [
    "# Import from PIL\n",
    "from PIL import Image\n",
    "\n",
    "# Set path to your image\n",
    "image_path = 'Images/krz_19190525_013_38_job_offer.png'\n",
    "\n",
    "# Open the image\n",
    "image = Image.open(image_path)\n",
    "\n",
    "# Show the image\n",
    "image.show()"
   ]
  },
  {
   "cell_type": "markdown",
   "id": "07247ef7",
   "metadata": {},
   "source": [
    "### 2) Image cropping and resizing"
   ]
  },
  {
   "cell_type": "code",
   "execution_count": 4,
   "id": "8152e56d",
   "metadata": {},
   "outputs": [
    {
     "name": "stdout",
     "output_type": "stream",
     "text": [
      "(421, 113)\n"
     ]
    }
   ],
   "source": [
    "# Get image size (width, height)\n",
    "print(image.size)"
   ]
  },
  {
   "cell_type": "code",
   "execution_count": 5,
   "id": "d5b74430",
   "metadata": {},
   "outputs": [],
   "source": [
    "# Crop the image\n",
    "cropped_image = image.crop((25, 5, 260, 35))\n",
    "cropped_image.show()"
   ]
  },
  {
   "cell_type": "code",
   "execution_count": 6,
   "id": "77828361",
   "metadata": {},
   "outputs": [],
   "source": [
    "resized_image = image.resize((400, 400))\n",
    "resized_image.show()"
   ]
  },
  {
   "cell_type": "markdown",
   "id": "3c6ec881",
   "metadata": {},
   "source": [
    "### 5) Working with cv2"
   ]
  },
  {
   "cell_type": "code",
   "execution_count": null,
   "id": "664635ca",
   "metadata": {},
   "outputs": [],
   "source": [
    "# Import OpenCV\n",
    "import cv2\n",
    "\n",
    "# Set path to your image\n",
    "image_path = 'Images/krz_19190525_013_38_job_offer.png'\n",
    "\n",
    "# Load the image\n",
    "job_ad_image = cv2.imread(image_path)\n",
    "\n",
    "# Show the image\n",
    "cv2.imshow(\"Image\", job_ad_image)\n",
    "cv2.waitKey(0)\n",
    "cv2.destroyAllWindows()"
   ]
  },
  {
   "cell_type": "markdown",
   "id": "5a220a2d",
   "metadata": {},
   "source": [
    "### 6) Image Rotation and Deskewing"
   ]
  },
  {
   "cell_type": "code",
   "execution_count": null,
   "id": "4050a01c",
   "metadata": {},
   "outputs": [],
   "source": [
    "# Rotate image by 90 degrees\n",
    "height, width = job_ad_image.shape[:2]\n",
    "center = (width / 2, height / 2)\n",
    "rotation_matrix = cv2.getRotationMatrix2D(center, 45, 1)\n",
    "rotated_img = cv2.warpAffine(job_ad_image, rotation_matrix, (width, height))\n",
    "\n",
    "# Display rotated image\n",
    "cv2.imshow(\"Image\", rotated_img)\n",
    "cv2.waitKey(0)\n",
    "cv2.destroyAllWindows()"
   ]
  },
  {
   "cell_type": "code",
   "execution_count": null,
   "id": "e0b51096",
   "metadata": {},
   "outputs": [],
   "source": [
    "from deskew import determine_skew \n",
    "\n",
    "book_image_path = 'Images/img_rotated.jpeg'\n",
    "book_image = cv2.imread(book_image_path)\n",
    "book_image = cv2.resize(book_image, (1000, 800))\n",
    "\n",
    "cv2.imshow(\"Image\", book_image)\n",
    "cv2.waitKey(0)\n",
    "cv2.destroyAllWindows()\n",
    "\n",
    "angle = determine_skew(book_image)\n",
    "print(angle)\n",
    "\n",
    "# Use angle to deskew\n",
    "height, width = book_image.shape[:2]\n",
    "center = (width / 2, height / 2)\n",
    "rotation_matrix = cv2.getRotationMatrix2D(center, angle, 1)\n",
    "rotated_img = cv2.warpAffine(book_image, rotation_matrix, (width, height))\n",
    "\n",
    "# Display deskewed image\n",
    "cv2.imshow(\"Image\", rotated_img)\n",
    "cv2.waitKey(0)\n",
    "cv2.destroyAllWindows()"
   ]
  },
  {
   "cell_type": "markdown",
   "id": "11fc4b7e",
   "metadata": {},
   "source": [
    "### 7) Grayscale and Binarization"
   ]
  },
  {
   "cell_type": "code",
   "execution_count": null,
   "id": "b157ddba",
   "metadata": {},
   "outputs": [],
   "source": [
    "#Convert an image to grayscale\n",
    "gray_image = cv2.cvtColor(book_image, cv2.COLOR_BGR2GRAY)\n",
    "cv2.imshow(\"Grayscale Image\", gray_image)\n",
    "cv2.waitKey(0)\n",
    "cv2.destroyAllWindows()\n",
    "\n",
    "# Binarization (thresholding)\n",
    "_, binary_image = cv2.threshold(gray_image, 127, 255, cv2.THRESH_BINARY)\n",
    "cv2.imshow(\"Binary Image\", binary_image)\n",
    "cv2.waitKey(0)\n",
    "cv2.destroyAllWindows()\n"
   ]
  },
  {
   "cell_type": "markdown",
   "id": "e526c3e5",
   "metadata": {},
   "source": [
    "### 8) Noise Removal"
   ]
  },
  {
   "cell_type": "code",
   "execution_count": null,
   "id": "d3890528",
   "metadata": {},
   "outputs": [],
   "source": [
    "# Apply median blur for noise removal\n",
    "blurred_image = cv2.medianBlur(binary_image, 3)\n",
    "cv2.imshow(\"No Noise\", blurred_image)\n",
    "cv2.waitKey(0)\n",
    "cv2.destroyAllWindows()"
   ]
  }
 ],
 "metadata": {
  "kernelspec": {
   "display_name": "Python 3",
   "language": "python",
   "name": "python3"
  },
  "language_info": {
   "codemirror_mode": {
    "name": "ipython",
    "version": 3
   },
   "file_extension": ".py",
   "mimetype": "text/x-python",
   "name": "python",
   "nbconvert_exporter": "python",
   "pygments_lexer": "ipython3",
   "version": "3.10.11"
  }
 },
 "nbformat": 4,
 "nbformat_minor": 5
}
